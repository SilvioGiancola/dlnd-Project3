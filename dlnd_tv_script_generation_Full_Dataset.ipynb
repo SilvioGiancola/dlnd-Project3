{
 "cells": [
  {
   "cell_type": "markdown",
   "metadata": {},
   "source": [
    "# TV Script Generation\n",
    "In this project, you'll generate your own [Simpsons](https://en.wikipedia.org/wiki/The_Simpsons) TV scripts using RNNs.  You'll be using part of the [Simpsons dataset](https://www.kaggle.com/wcukierski/the-simpsons-by-the-data) of scripts from 27 seasons.  The Neural Network you'll build will generate a new TV script for a scene at [Moe's Tavern](https://simpsonswiki.com/wiki/Moe's_Tavern).\n",
    "## Get the Data\n",
    "The data is already provided for you.  You'll be using a subset of the original dataset.  It consists of only the scenes in Moe's Tavern.  This doesn't include other versions of the tavern, like \"Moe's Cavern\", \"Flaming Moe's\", \"Uncle Moe's Family Feed-Bag\", etc.."
   ]
  },
  {
   "cell_type": "code",
   "execution_count": 1,
   "metadata": {
    "collapsed": true
   },
   "outputs": [],
   "source": [
    "\"\"\"\n",
    "DON'T MODIFY ANYTHING IN THIS CELL\n",
    "\"\"\"\n",
    "import helper\n",
    "\n",
    "data_dir = './the-simpsons-by-the-data/simpsons_script_lines.csv'\n",
    "text = helper.load_data(data_dir)\n",
    "# Ignore notice, since we don't use it for analysing the data\n",
    "text = text[81:]"
   ]
  },
  {
   "cell_type": "markdown",
   "metadata": {},
   "source": [
    "## Explore the Data\n",
    "Play around with `view_sentence_range` to view different parts of the data."
   ]
  },
  {
   "cell_type": "code",
   "execution_count": 2,
   "metadata": {},
   "outputs": [
    {
     "name": "stdout",
     "output_type": "stream",
     "text": [
      "Dataset Stats\n",
      "Roughly the number of unique words: 674527\n",
      "Number of scenes: 1\n",
      "Average number of sentences in each scene: 158316.0\n",
      "Number of lines: 158317\n",
      "Average number of words in each line: 28.61738789896221\n",
      "\n",
      "The sentences 0 to 10:\n",
      "_id,raw_character_text,raw_location_text,spoken_words,normalized_text,word_count\n",
      "9549,32,209,\"Miss Hoover: No, actually, it was a little of both. Sometimes when a disease is in all the magazines and all the news shows, it's only natural that you think you have it.\",848000,true,464,3,Miss Hoover,Springfield Elementary School,\"No, actually, it was a little of both. Sometimes when a disease is in all the magazines and all the news shows, it's only natural that you think you have it.\",no actually it was a little of both sometimes when a disease is in all the magazines and all the news shows its only natural that you think you have it,31\n",
      "9550,32,210,Lisa Simpson: (NEAR TEARS) Where's Mr. Bergstrom?,856000,true,9,3,Lisa Simpson,Springfield Elementary School,Where's Mr. Bergstrom?,wheres mr bergstrom,3\n",
      "9551,32,211,Miss Hoover: I don't know. Although I'd sure like to talk to him. He didn't touch my lesson plan. What did he teach you?,856000,true,464,3,Miss Hoover,Springfield Elementary School,I don't know. Although I'd sure like to talk to him. He didn't touch my lesson plan. What did he teach you?,i dont know although id sure like to talk to him he didnt touch my lesson plan what did he teach you,22\n",
      "9552,32,212,Lisa Simpson: That life is worth living.,864000,true,9,3,Lisa Simpson,Springfield Elementary School,That life is worth living.,that life is worth living,5\n",
      "9553,32,213,\"Edna Krabappel-Flanders: The polls will be open from now until the end of recess. Now, (SOUR) just in case any of you have decided to put any thought into this, we'll have our final statements. Martin?\",864000,true,40,3,Edna Krabappel-Flanders,Springfield Elementary School,\"The polls will be open from now until the end of recess. Now, just in case any of you have decided to put any thought into this, we'll have our final statements. Martin?\",the polls will be open from now until the end of recess now just in case any of you have decided to put any thought into this well have our final statements martin,33\n",
      "9554,32,214,Martin Prince: (HOARSE WHISPER) I don't think there's anything left to say.,877000,true,38,3,Martin Prince,Springfield Elementary School,I don't think there's anything left to say.,i dont think theres anything left to say,8\n",
      "9555,32,215,Edna Krabappel-Flanders: Bart?,881000,true,40,3,Edna Krabappel-Flanders,Springfield Elementary School,Bart?,bart,1\n",
      "9556,32,216,Bart Simpson: Victory party under the slide!,882000,true,8,3,Bart Simpson,Springfield Elementary School,Victory party under the slide!,victory party under the slide,5\n",
      "9557,32,217,(Apartment Building: Ext. apartment building - day),889000,false,,374,,Apartment Building,,,\n"
     ]
    }
   ],
   "source": [
    "view_sentence_range = (0, 10)\n",
    "\n",
    "\"\"\"\n",
    "DON'T MODIFY ANYTHING IN THIS CELL\n",
    "\"\"\"\n",
    "import numpy as np\n",
    "\n",
    "print('Dataset Stats')\n",
    "print('Roughly the number of unique words: {}'.format(len({word: None for word in text.split()})))\n",
    "scenes = text.split('\\n\\n')\n",
    "print('Number of scenes: {}'.format(len(scenes)))\n",
    "sentence_count_scene = [scene.count('\\n') for scene in scenes]\n",
    "print('Average number of sentences in each scene: {}'.format(np.average(sentence_count_scene)))\n",
    "\n",
    "sentences = [sentence for scene in scenes for sentence in scene.split('\\n')]\n",
    "print('Number of lines: {}'.format(len(sentences)))\n",
    "word_count_sentence = [len(sentence.split()) for sentence in sentences]\n",
    "print('Average number of words in each line: {}'.format(np.average(word_count_sentence)))\n",
    "\n",
    "print()\n",
    "print('The sentences {} to {}:'.format(*view_sentence_range))\n",
    "print('\\n'.join(text.split('\\n')[view_sentence_range[0]:view_sentence_range[1]]))"
   ]
  },
  {
   "cell_type": "markdown",
   "metadata": {},
   "source": [
    "## Implement Preprocessing Functions\n",
    "The first thing to do to any dataset is preprocessing.  Implement the following preprocessing functions below:\n",
    "- Lookup Table\n",
    "- Tokenize Punctuation\n",
    "\n",
    "### Lookup Table\n",
    "To create a word embedding, you first need to transform the words to ids.  In this function, create two dictionaries:\n",
    "- Dictionary to go from the words to an id, we'll call `vocab_to_int`\n",
    "- Dictionary to go from the id to word, we'll call `int_to_vocab`\n",
    "\n",
    "Return these dictionaries in the following tuple `(vocab_to_int, int_to_vocab)`"
   ]
  },
  {
   "cell_type": "code",
   "execution_count": 3,
   "metadata": {},
   "outputs": [
    {
     "name": "stdout",
     "output_type": "stream",
     "text": [
      "Tests Passed\n"
     ]
    }
   ],
   "source": [
    "import numpy as np\n",
    "import problem_unittests as tests\n",
    "\n",
    "def create_lookup_tables(text):\n",
    "    \"\"\"\n",
    "    Create lookup tables for vocabulary\n",
    "    :param text: The text of tv scripts split into words\n",
    "    :return: A tuple of dicts (vocab_to_int, int_to_vocab)\n",
    "    \"\"\"\n",
    "    # TODO: Implement Function\n",
    "    vocab = set(text)\n",
    "    vocab_to_int = {c: i for i, c in enumerate(vocab)}\n",
    "    int_to_vocab = dict(enumerate(vocab))\n",
    "    return (vocab_to_int, int_to_vocab)\n",
    "\n",
    "\n",
    "\"\"\"\n",
    "DON'T MODIFY ANYTHING IN THIS CELL THAT IS BELOW THIS LINE\n",
    "\"\"\"\n",
    "tests.test_create_lookup_tables(create_lookup_tables)"
   ]
  },
  {
   "cell_type": "markdown",
   "metadata": {},
   "source": [
    "### Tokenize Punctuation\n",
    "We'll be splitting the script into a word array using spaces as delimiters.  However, punctuations like periods and exclamation marks make it hard for the neural network to distinguish between the word \"bye\" and \"bye!\".\n",
    "\n",
    "Implement the function `token_lookup` to return a dict that will be used to tokenize symbols like \"!\" into \"||Exclamation_Mark||\".  Create a dictionary for the following symbols where the symbol is the key and value is the token:\n",
    "- Period ( . )\n",
    "- Comma ( , )\n",
    "- Quotation Mark ( \" )\n",
    "- Semicolon ( ; )\n",
    "- Exclamation mark ( ! )\n",
    "- Question mark ( ? )\n",
    "- Left Parentheses ( ( )\n",
    "- Right Parentheses ( ) )\n",
    "- Dash ( -- )\n",
    "- Return ( \\n )\n",
    "\n",
    "This dictionary will be used to token the symbols and add the delimiter (space) around it.  This separates the symbols as it's own word, making it easier for the neural network to predict on the next word. Make sure you don't use a token that could be confused as a word. Instead of using the token \"dash\", try using something like \"||dash||\"."
   ]
  },
  {
   "cell_type": "code",
   "execution_count": 4,
   "metadata": {},
   "outputs": [
    {
     "name": "stdout",
     "output_type": "stream",
     "text": [
      "Tests Passed\n"
     ]
    }
   ],
   "source": [
    "def token_lookup():\n",
    "    \"\"\"\n",
    "    Generate a dict to turn punctuation into a token.\n",
    "    :return: Tokenize dictionary where the key is the punctuation and the value is the token\n",
    "    \"\"\"\n",
    "    # TODO: Implement Function\n",
    "    dict = { '.' : '||Period||',\n",
    "             ',' : '||Comma||' ,\n",
    "             '\"' : '||Quotation_Mark||',\n",
    "             ';' : '||Semicolon||' ,\n",
    "             '!' : '||Exclamation_Mark||',\n",
    "             '?' : '||Question_Mark||' ,\n",
    "             '(' : '||Left_Parentheses||' ,\n",
    "             ')' : '||Right_Parentheses||' ,\n",
    "             '--' : '||Dash||' ,\n",
    "             '\\n' : '||Return||' }\n",
    "    return dict\n",
    "\n",
    "\"\"\"\n",
    "DON'T MODIFY ANYTHING IN THIS CELL THAT IS BELOW THIS LINE\n",
    "\"\"\"\n",
    "tests.test_tokenize(token_lookup)"
   ]
  },
  {
   "cell_type": "markdown",
   "metadata": {},
   "source": [
    "## Preprocess all the data and save it\n",
    "Running the code cell below will preprocess all the data and save it to file."
   ]
  },
  {
   "cell_type": "code",
   "execution_count": 5,
   "metadata": {
    "collapsed": true
   },
   "outputs": [],
   "source": [
    "\"\"\"\n",
    "DON'T MODIFY ANYTHING IN THIS CELL\n",
    "\"\"\"\n",
    "# Preprocess Training, Validation, and Testing Data\n",
    "helper.preprocess_and_save_data(data_dir, token_lookup, create_lookup_tables)"
   ]
  },
  {
   "cell_type": "markdown",
   "metadata": {},
   "source": [
    "# Check Point\n",
    "This is your first checkpoint. If you ever decide to come back to this notebook or have to restart the notebook, you can start from here. The preprocessed data has been saved to disk."
   ]
  },
  {
   "cell_type": "code",
   "execution_count": 6,
   "metadata": {
    "collapsed": true
   },
   "outputs": [],
   "source": [
    "\"\"\"\n",
    "DON'T MODIFY ANYTHING IN THIS CELL\n",
    "\"\"\"\n",
    "import helper\n",
    "import numpy as np\n",
    "import problem_unittests as tests\n",
    "\n",
    "int_text, vocab_to_int, int_to_vocab, token_dict = helper.load_preprocess()"
   ]
  },
  {
   "cell_type": "markdown",
   "metadata": {},
   "source": [
    "## Build the Neural Network\n",
    "You'll build the components necessary to build a RNN by implementing the following functions below:\n",
    "- get_inputs\n",
    "- get_init_cell\n",
    "- get_embed\n",
    "- build_rnn\n",
    "- build_nn\n",
    "- get_batches\n",
    "\n",
    "### Check the Version of TensorFlow and Access to GPU"
   ]
  },
  {
   "cell_type": "code",
   "execution_count": 7,
   "metadata": {},
   "outputs": [
    {
     "name": "stdout",
     "output_type": "stream",
     "text": [
      "TensorFlow Version: 1.1.0\n",
      "Default GPU Device: /gpu:0\n"
     ]
    }
   ],
   "source": [
    "\"\"\"\n",
    "DON'T MODIFY ANYTHING IN THIS CELL\n",
    "\"\"\"\n",
    "from distutils.version import LooseVersion\n",
    "import warnings\n",
    "import tensorflow as tf\n",
    "\n",
    "# Check TensorFlow Version\n",
    "assert LooseVersion(tf.__version__) >= LooseVersion('1.0'), 'Please use TensorFlow version 1.0 or newer'\n",
    "print('TensorFlow Version: {}'.format(tf.__version__))\n",
    "\n",
    "# Check for a GPU\n",
    "if not tf.test.gpu_device_name():\n",
    "    warnings.warn('No GPU found. Please use a GPU to train your neural network.')\n",
    "else:\n",
    "    print('Default GPU Device: {}'.format(tf.test.gpu_device_name()))"
   ]
  },
  {
   "cell_type": "markdown",
   "metadata": {},
   "source": [
    "### Input\n",
    "Implement the `get_inputs()` function to create TF Placeholders for the Neural Network.  It should create the following placeholders:\n",
    "- Input text placeholder named \"input\" using the [TF Placeholder](https://www.tensorflow.org/api_docs/python/tf/placeholder) `name` parameter.\n",
    "- Targets placeholder\n",
    "- Learning Rate placeholder\n",
    "\n",
    "Return the placeholders in the following tuple `(Input, Targets, LearningRate)`"
   ]
  },
  {
   "cell_type": "code",
   "execution_count": 8,
   "metadata": {},
   "outputs": [
    {
     "name": "stdout",
     "output_type": "stream",
     "text": [
      "Tests Passed\n"
     ]
    }
   ],
   "source": [
    "def get_inputs():\n",
    "    \"\"\"\n",
    "    Create TF Placeholders for input, targets, and learning rate.\n",
    "    :return: Tuple (input, targets, learning rate)\n",
    "    \"\"\"\n",
    "    Input = tf.placeholder( tf.int32, shape=(None,None), name='input')\n",
    "    Targets = tf.placeholder(tf.int32, shape=(None,None), name='Targets')\n",
    "    LearningRate = tf.placeholder(tf.float32, name='LearningRate')\n",
    "    # TODO: Implement Function\n",
    "    return (Input, Targets, LearningRate)\n",
    "\n",
    "\n",
    "\"\"\"\n",
    "DON'T MODIFY ANYTHING IN THIS CELL THAT IS BELOW THIS LINE\n",
    "\"\"\"\n",
    "tests.test_get_inputs(get_inputs)"
   ]
  },
  {
   "cell_type": "markdown",
   "metadata": {},
   "source": [
    "### Build RNN Cell and Initialize\n",
    "Stack one or more [`BasicLSTMCells`](https://www.tensorflow.org/api_docs/python/tf/contrib/rnn/BasicLSTMCell) in a [`MultiRNNCell`](https://www.tensorflow.org/api_docs/python/tf/contrib/rnn/MultiRNNCell).\n",
    "- The Rnn size should be set using `rnn_size`\n",
    "- Initalize Cell State using the MultiRNNCell's [`zero_state()`](https://www.tensorflow.org/api_docs/python/tf/contrib/rnn/MultiRNNCell#zero_state) function\n",
    "    - Apply the name \"initial_state\" to the initial state using [`tf.identity()`](https://www.tensorflow.org/api_docs/python/tf/identity)\n",
    "\n",
    "Return the cell and initial state in the following tuple `(Cell, InitialState)`"
   ]
  },
  {
   "cell_type": "code",
   "execution_count": 9,
   "metadata": {},
   "outputs": [
    {
     "name": "stdout",
     "output_type": "stream",
     "text": [
      "Tests Passed\n"
     ]
    }
   ],
   "source": [
    "def get_init_cell(batch_size, rnn_size):\n",
    "    \"\"\"\n",
    "    Create an RNN Cell and initialize it.\n",
    "    :param batch_size: Size of batches\n",
    "    :param rnn_size: Size of RNNs\n",
    "    :return: Tuple (cell, initialize state)\n",
    "    \"\"\"\n",
    "    # TODO: Implement Function\n",
    "#     BasicCell = tf.contrib.rnn.BasicLSTMCell(rnn_size)\n",
    "#     MultiCell = tf.contrib.rnn.MultiRNNCell([BasicCell]*3)\n",
    "    MultiCell = tf.contrib.rnn.MultiRNNCell([tf.contrib.rnn.BasicLSTMCell(rnn_size) for _ in range(3)])\n",
    "    InitialState = tf.identity(MultiCell.zero_state(batch_size, tf.float32), name='initial_state')\n",
    "    \n",
    "    return (MultiCell, InitialState)\n",
    "\n",
    "\n",
    "\"\"\"\n",
    "DON'T MODIFY ANYTHING IN THIS CELL THAT IS BELOW THIS LINE\n",
    "\"\"\"\n",
    "tests.test_get_init_cell(get_init_cell)"
   ]
  },
  {
   "cell_type": "markdown",
   "metadata": {},
   "source": [
    "### Word Embedding\n",
    "Apply embedding to `input_data` using TensorFlow.  Return the embedded sequence."
   ]
  },
  {
   "cell_type": "code",
   "execution_count": 10,
   "metadata": {},
   "outputs": [
    {
     "name": "stdout",
     "output_type": "stream",
     "text": [
      "Tests Passed\n"
     ]
    }
   ],
   "source": [
    "def get_embed(input_data, vocab_size, embed_dim):\n",
    "    \"\"\"\n",
    "    Create embedding for <input_data>.\n",
    "    :param input_data: TF placeholder for text input.\n",
    "    :param vocab_size: Number of words in vocabulary.\n",
    "    :param embed_dim: Number of embedding dimensions\n",
    "    :return: Embedded input.\n",
    "    \"\"\"\n",
    "    # TODO: Implement Function\n",
    "    embedding = tf.Variable(tf.random_uniform((vocab_size, embed_dim), -1, 1))\n",
    "    embed = tf.nn.embedding_lookup(embedding, input_data)\n",
    "    return embed\n",
    "\n",
    "\n",
    "\"\"\"\n",
    "DON'T MODIFY ANYTHING IN THIS CELL THAT IS BELOW THIS LINE\n",
    "\"\"\"\n",
    "tests.test_get_embed(get_embed)"
   ]
  },
  {
   "cell_type": "markdown",
   "metadata": {},
   "source": [
    "### Build RNN\n",
    "You created a RNN Cell in the `get_init_cell()` function.  Time to use the cell to create a RNN.\n",
    "- Build the RNN using the [`tf.nn.dynamic_rnn()`](https://www.tensorflow.org/api_docs/python/tf/nn/dynamic_rnn)\n",
    " - Apply the name \"final_state\" to the final state using [`tf.identity()`](https://www.tensorflow.org/api_docs/python/tf/identity)\n",
    "\n",
    "Return the outputs and final_state state in the following tuple `(Outputs, FinalState)` "
   ]
  },
  {
   "cell_type": "code",
   "execution_count": 11,
   "metadata": {},
   "outputs": [
    {
     "name": "stdout",
     "output_type": "stream",
     "text": [
      "Tests Passed\n"
     ]
    }
   ],
   "source": [
    "def build_rnn(cell, inputs):\n",
    "    \"\"\"\n",
    "    Create a RNN using a RNN Cell\n",
    "    :param cell: RNN Cell\n",
    "    :param inputs: Input text data\n",
    "    :return: Tuple (Outputs, Final State)\n",
    "    \"\"\"\n",
    "    # TODO: Implement Function\n",
    "    Outputs, FinalState = tf.nn.dynamic_rnn(cell, inputs, dtype=tf.float32)\n",
    "    FinalState = tf.identity(FinalState, name=\"final_state\")\n",
    "    return Outputs, FinalState\n",
    "\n",
    "\n",
    "\"\"\"\n",
    "DON'T MODIFY ANYTHING IN THIS CELL THAT IS BELOW THIS LINE\n",
    "\"\"\"\n",
    "tests.test_build_rnn(build_rnn)"
   ]
  },
  {
   "cell_type": "markdown",
   "metadata": {},
   "source": [
    "### Build the Neural Network\n",
    "Apply the functions you implemented above to:\n",
    "- Apply embedding to `input_data` using your `get_embed(input_data, vocab_size, embed_dim)` function.\n",
    "- Build RNN using `cell` and your `build_rnn(cell, inputs)` function.\n",
    "- Apply a fully connected layer with a linear activation and `vocab_size` as the number of outputs.\n",
    "\n",
    "Return the logits and final state in the following tuple (Logits, FinalState) "
   ]
  },
  {
   "cell_type": "code",
   "execution_count": 12,
   "metadata": {},
   "outputs": [
    {
     "name": "stdout",
     "output_type": "stream",
     "text": [
      "Tests Passed\n"
     ]
    }
   ],
   "source": [
    "def build_nn(cell, rnn_size, input_data, vocab_size, embed_dim):\n",
    "    \"\"\"\n",
    "    Build part of the neural network\n",
    "    :param cell: RNN cell\n",
    "    :param rnn_size: Size of rnns\n",
    "    :param input_data: Input data\n",
    "    :param vocab_size: Vocabulary size\n",
    "    :param embed_dim: Number of embedding dimensions\n",
    "    :return: Tuple (Logits, FinalState)\n",
    "    \"\"\"\n",
    "    # TODO: Implement Function\n",
    "    Inputs = get_embed(input_data, vocab_size, embed_dim) \n",
    "    Outputs, FinalState  = build_rnn(cell, Inputs)\n",
    "    Logits = tf.contrib.layers.fully_connected(Outputs, vocab_size, activation_fn=None)\n",
    "\n",
    "    return Logits, FinalState\n",
    "\n",
    "\n",
    "\"\"\"\n",
    "DON'T MODIFY ANYTHING IN THIS CELL THAT IS BELOW THIS LINE\n",
    "\"\"\"\n",
    "tests.test_build_nn(build_nn)"
   ]
  },
  {
   "cell_type": "markdown",
   "metadata": {},
   "source": [
    "### Batches\n",
    "Implement `get_batches` to create batches of input and targets using `int_text`.  The batches should be a Numpy array with the shape `(number of batches, 2, batch size, sequence length)`. Each batch contains two elements:\n",
    "- The first element is a single batch of **input** with the shape `[batch size, sequence length]`\n",
    "- The second element is a single batch of **targets** with the shape `[batch size, sequence length]`\n",
    "\n",
    "If you can't fill the last batch with enough data, drop the last batch.\n",
    "\n",
    "For exmple, `get_batches([1, 2, 3, 4, 5, 6, 7, 8, 9, 10, 11, 12, 13, 14, 15, 16, 17, 18, 19, 20], 3, 2)` would return a Numpy array of the following:\n",
    "```\n",
    "[\n",
    "  # First Batch\n",
    "  [\n",
    "    # Batch of Input\n",
    "    [[ 1  2], [ 7  8], [13 14]]\n",
    "    # Batch of targets\n",
    "    [[ 2  3], [ 8  9], [14 15]]\n",
    "  ]\n",
    "\n",
    "  # Second Batch\n",
    "  [\n",
    "    # Batch of Input\n",
    "    [[ 3  4], [ 9 10], [15 16]]\n",
    "    # Batch of targets\n",
    "    [[ 4  5], [10 11], [16 17]]\n",
    "  ]\n",
    "\n",
    "  # Third Batch\n",
    "  [\n",
    "    # Batch of Input\n",
    "    [[ 5  6], [11 12], [17 18]]\n",
    "    # Batch of targets\n",
    "    [[ 6  7], [12 13], [18  1]]\n",
    "  ]\n",
    "]\n",
    "```\n",
    "\n",
    "Notice that the last target value in the last batch is the first input value of the first batch. In this case, `1`. This is a common technique used when creating sequence batches, although it is rather unintuitive."
   ]
  },
  {
   "cell_type": "code",
   "execution_count": 13,
   "metadata": {},
   "outputs": [
    {
     "name": "stdout",
     "output_type": "stream",
     "text": [
      "Tests Passed\n"
     ]
    }
   ],
   "source": [
    "def get_batches(int_text, batch_size, seq_length):\n",
    "    \"\"\"\n",
    "    Return batches of input and target\n",
    "    :param int_text: Text with the words replaced by their ids\n",
    "    :param batch_size: The size of batch\n",
    "    :param seq_length: The length of sequence\n",
    "    :return: Batches as a Numpy array\n",
    "    \"\"\"\n",
    "    # TODO: Implement Function\n",
    "    #\n",
    "#     int_text=list(range(1,21))\n",
    "#     batch_size, seq_length = 3, 2\n",
    "#     int_text=list(range(1,16))\n",
    "#     batch_size, seq_length = 2, 3  \n",
    " \n",
    "\n",
    "    n_batches = len(int_text) // (batch_size * seq_length)\n",
    "    for i in range(n_batches*batch_size*seq_length, len(int_text)):\n",
    "        int_text[i] = int_text[i-n_batches*batch_size*seq_length]\n",
    "\n",
    "    results = np.zeros((n_batches, 2, batch_size, seq_length))\n",
    "    for i in range(n_batches):\n",
    "        for j in range(batch_size):\n",
    "            init = i*seq_length + j*n_batches*seq_length\n",
    "            end  = init + seq_length\n",
    "            results[i][0][j] = int_text[init:end]\n",
    "            init = init+1\n",
    "            end  = end+1\n",
    "            results[i][1][j] = int_text[init:end]\n",
    "#     print (results.shape)\n",
    "#     print (results)\n",
    "            \n",
    "    \n",
    "    return np.array(results)\n",
    "\n",
    "\n",
    "\"\"\"\n",
    "DON'T MODIFY ANYTHING IN THIS CELL THAT IS BELOW THIS LINE\n",
    "\"\"\"\n",
    "tests.test_get_batches(get_batches)"
   ]
  },
  {
   "cell_type": "markdown",
   "metadata": {},
   "source": [
    "## Neural Network Training\n",
    "### Hyperparameters\n",
    "Tune the following parameters:\n",
    "\n",
    "- Set `num_epochs` to the number of epochs.\n",
    "- Set `batch_size` to the batch size.\n",
    "- Set `rnn_size` to the size of the RNNs.\n",
    "- Set `embed_dim` to the size of the embedding.\n",
    "- Set `seq_length` to the length of sequence.\n",
    "- Set `learning_rate` to the learning rate.\n",
    "- Set `show_every_n_batches` to the number of batches the neural network should print progress."
   ]
  },
  {
   "cell_type": "code",
   "execution_count": 14,
   "metadata": {
    "collapsed": true
   },
   "outputs": [],
   "source": [
    "# Number of Epochs\n",
    "num_epochs = 200\n",
    "# Batch Size\n",
    "batch_size = 128\n",
    "# RNN Size\n",
    "rnn_size = 128\n",
    "# Embedding Dimension Size\n",
    "embed_dim = 300\n",
    "# Sequence Length\n",
    "seq_length = 10\n",
    "# Learning Rate\n",
    "learning_rate = 0.005\n",
    "# Show stats for every n number of batches\n",
    "show_every_n_batches = 10\n",
    "\n",
    "\"\"\"\n",
    "DON'T MODIFY ANYTHING IN THIS CELL THAT IS BELOW THIS LINE\n",
    "\"\"\"\n",
    "save_dir = './save'"
   ]
  },
  {
   "cell_type": "markdown",
   "metadata": {},
   "source": [
    "### Build the Graph\n",
    "Build the graph using the neural network you implemented."
   ]
  },
  {
   "cell_type": "code",
   "execution_count": null,
   "metadata": {
    "collapsed": true
   },
   "outputs": [],
   "source": [
    "\"\"\"\n",
    "DON'T MODIFY ANYTHING IN THIS CELL\n",
    "\"\"\"\n",
    "from tensorflow.contrib import seq2seq\n",
    "\n",
    "train_graph = tf.Graph()\n",
    "with train_graph.as_default():\n",
    "    vocab_size = len(int_to_vocab)\n",
    "    input_text, targets, lr = get_inputs()\n",
    "    input_data_shape = tf.shape(input_text)\n",
    "    cell, initial_state = get_init_cell(input_data_shape[0], rnn_size)\n",
    "    logits, final_state = build_nn(cell, rnn_size, input_text, vocab_size, embed_dim)\n",
    "\n",
    "    # Probabilities for generating words\n",
    "    probs = tf.nn.softmax(logits, name='probs')\n",
    "\n",
    "    # Loss function\n",
    "    cost = seq2seq.sequence_loss(\n",
    "        logits,\n",
    "        targets,\n",
    "        tf.ones([input_data_shape[0], input_data_shape[1]]))\n",
    "\n",
    "    # Optimizer\n",
    "    optimizer = tf.train.AdamOptimizer(lr)\n",
    "\n",
    "    # Gradient Clipping\n",
    "    gradients = optimizer.compute_gradients(cost)\n",
    "    capped_gradients = [(tf.clip_by_value(grad, -1., 1.), var) for grad, var in gradients if grad is not None]\n",
    "    train_op = optimizer.apply_gradients(capped_gradients)"
   ]
  },
  {
   "cell_type": "markdown",
   "metadata": {},
   "source": [
    "## Train\n",
    "Train the neural network on the preprocessed data.  If you have a hard time getting a good loss, check the [forms](https://discussions.udacity.com/) to see if anyone is having the same problem."
   ]
  },
  {
   "cell_type": "code",
   "execution_count": null,
   "metadata": {},
   "outputs": [
    {
     "name": "stdout",
     "output_type": "stream",
     "text": [
      "Epoch   0 Batch    0/7505   train_loss = 12.291\n",
      "Epoch   0 Batch   10/7505   train_loss = 7.279\n",
      "Epoch   0 Batch   20/7505   train_loss = 7.075\n",
      "Epoch   0 Batch   30/7505   train_loss = 6.983\n",
      "Epoch   0 Batch   40/7505   train_loss = 7.290\n",
      "Epoch   0 Batch   50/7505   train_loss = 6.972\n",
      "Epoch   0 Batch   60/7505   train_loss = 6.599\n",
      "Epoch   0 Batch   70/7505   train_loss = 6.681\n",
      "Epoch   0 Batch   80/7505   train_loss = 6.518\n",
      "Epoch   0 Batch   90/7505   train_loss = 6.417\n",
      "Epoch   0 Batch  100/7505   train_loss = 6.656\n",
      "Epoch   0 Batch  110/7505   train_loss = 6.230\n",
      "Epoch   0 Batch  120/7505   train_loss = 6.468\n",
      "Epoch   0 Batch  130/7505   train_loss = 6.479\n",
      "Epoch   0 Batch  140/7505   train_loss = 6.700\n",
      "Epoch   0 Batch  150/7505   train_loss = 6.471\n",
      "Epoch   0 Batch  160/7505   train_loss = 6.413\n",
      "Epoch   0 Batch  170/7505   train_loss = 6.635\n",
      "Epoch   0 Batch  180/7505   train_loss = 6.647\n",
      "Epoch   0 Batch  190/7505   train_loss = 6.401\n",
      "Epoch   0 Batch  200/7505   train_loss = 6.786\n",
      "Epoch   0 Batch  210/7505   train_loss = 6.739\n",
      "Epoch   0 Batch  220/7505   train_loss = 6.393\n",
      "Epoch   0 Batch  230/7505   train_loss = 6.575\n",
      "Epoch   0 Batch  240/7505   train_loss = 6.578\n",
      "Epoch   0 Batch  250/7505   train_loss = 6.345\n",
      "Epoch   0 Batch  260/7505   train_loss = 6.344\n",
      "Epoch   0 Batch  270/7505   train_loss = 6.541\n",
      "Epoch   0 Batch  280/7505   train_loss = 6.619\n",
      "Epoch   0 Batch  290/7505   train_loss = 6.284\n",
      "Epoch   0 Batch  300/7505   train_loss = 6.400\n",
      "Epoch   0 Batch  310/7505   train_loss = 6.260\n",
      "Epoch   0 Batch  320/7505   train_loss = 6.464\n",
      "Epoch   0 Batch  330/7505   train_loss = 6.384\n",
      "Epoch   0 Batch  340/7505   train_loss = 6.412\n",
      "Epoch   0 Batch  350/7505   train_loss = 6.283\n",
      "Epoch   0 Batch  360/7505   train_loss = 6.413\n",
      "Epoch   0 Batch  370/7505   train_loss = 6.497\n",
      "Epoch   0 Batch  380/7505   train_loss = 6.630\n",
      "Epoch   0 Batch  390/7505   train_loss = 6.505\n",
      "Epoch   0 Batch  400/7505   train_loss = 6.549\n",
      "Epoch   0 Batch  410/7505   train_loss = 6.395\n",
      "Epoch   0 Batch  420/7505   train_loss = 6.808\n",
      "Epoch   0 Batch  430/7505   train_loss = 6.533\n",
      "Epoch   0 Batch  440/7505   train_loss = 6.533\n",
      "Epoch   0 Batch  450/7505   train_loss = 6.581\n",
      "Epoch   0 Batch  460/7505   train_loss = 6.627\n",
      "Epoch   0 Batch  470/7505   train_loss = 6.539\n",
      "Epoch   0 Batch  480/7505   train_loss = 6.550\n",
      "Epoch   0 Batch  490/7505   train_loss = 6.434\n",
      "Epoch   0 Batch  500/7505   train_loss = 6.627\n",
      "Epoch   0 Batch  510/7505   train_loss = 6.456\n",
      "Epoch   0 Batch  520/7505   train_loss = 6.350\n",
      "Epoch   0 Batch  530/7505   train_loss = 6.343\n",
      "Epoch   0 Batch  540/7505   train_loss = 6.568\n",
      "Epoch   0 Batch  550/7505   train_loss = 6.563\n",
      "Epoch   0 Batch  560/7505   train_loss = 6.620\n",
      "Epoch   0 Batch  570/7505   train_loss = 6.711\n",
      "Epoch   0 Batch  580/7505   train_loss = 6.560\n",
      "Epoch   0 Batch  590/7505   train_loss = 6.590\n",
      "Epoch   0 Batch  600/7505   train_loss = 6.536\n",
      "Epoch   0 Batch  610/7505   train_loss = 6.516\n",
      "Epoch   0 Batch  620/7505   train_loss = 6.622\n",
      "Epoch   0 Batch  630/7505   train_loss = 6.430\n",
      "Epoch   0 Batch  640/7505   train_loss = 6.321\n",
      "Epoch   0 Batch  650/7505   train_loss = 6.525\n",
      "Epoch   0 Batch  660/7505   train_loss = 6.461\n",
      "Epoch   0 Batch  670/7505   train_loss = 6.380\n",
      "Epoch   0 Batch  680/7505   train_loss = 6.700\n",
      "Epoch   0 Batch  690/7505   train_loss = 6.380\n",
      "Epoch   0 Batch  700/7505   train_loss = 6.672\n",
      "Epoch   0 Batch  710/7505   train_loss = 6.529\n",
      "Epoch   0 Batch  720/7505   train_loss = 6.302\n",
      "Epoch   0 Batch  730/7505   train_loss = 6.488\n",
      "Epoch   0 Batch  740/7505   train_loss = 6.528\n",
      "Epoch   0 Batch  750/7505   train_loss = 6.299\n",
      "Epoch   0 Batch  760/7505   train_loss = 6.496\n",
      "Epoch   0 Batch  770/7505   train_loss = 6.718\n",
      "Epoch   0 Batch  780/7505   train_loss = 6.636\n",
      "Epoch   0 Batch  790/7505   train_loss = 6.687\n",
      "Epoch   0 Batch  800/7505   train_loss = 6.592\n",
      "Epoch   0 Batch  810/7505   train_loss = 6.508\n",
      "Epoch   0 Batch  820/7505   train_loss = 6.649\n",
      "Epoch   0 Batch  830/7505   train_loss = 6.725\n",
      "Epoch   0 Batch  840/7505   train_loss = 6.410\n",
      "Epoch   0 Batch  850/7505   train_loss = 6.652\n",
      "Epoch   0 Batch  860/7505   train_loss = 6.633\n",
      "Epoch   0 Batch  870/7505   train_loss = 6.479\n",
      "Epoch   0 Batch  880/7505   train_loss = 6.380\n",
      "Epoch   0 Batch  890/7505   train_loss = 6.686\n",
      "Epoch   0 Batch  900/7505   train_loss = 6.718\n",
      "Epoch   0 Batch  910/7505   train_loss = 6.418\n",
      "Epoch   0 Batch  920/7505   train_loss = 6.697\n",
      "Epoch   0 Batch  930/7505   train_loss = 6.155\n",
      "Epoch   0 Batch  940/7505   train_loss = 6.446\n",
      "Epoch   0 Batch  950/7505   train_loss = 6.498\n",
      "Epoch   0 Batch  960/7505   train_loss = 6.511\n",
      "Epoch   0 Batch  970/7505   train_loss = 6.650\n",
      "Epoch   0 Batch  980/7505   train_loss = 6.391\n",
      "Epoch   0 Batch  990/7505   train_loss = 6.481\n",
      "Epoch   0 Batch 1000/7505   train_loss = 6.327\n",
      "Epoch   0 Batch 1010/7505   train_loss = 6.283\n",
      "Epoch   0 Batch 1020/7505   train_loss = 6.374\n",
      "Epoch   0 Batch 1030/7505   train_loss = 6.491\n",
      "Epoch   0 Batch 1040/7505   train_loss = 6.377\n",
      "Epoch   0 Batch 1050/7505   train_loss = 6.709\n",
      "Epoch   0 Batch 1060/7505   train_loss = 6.522\n",
      "Epoch   0 Batch 1070/7505   train_loss = 6.294\n",
      "Epoch   0 Batch 1080/7505   train_loss = 6.593\n",
      "Epoch   0 Batch 1090/7505   train_loss = 6.480\n",
      "Epoch   0 Batch 1100/7505   train_loss = 6.594\n",
      "Epoch   0 Batch 1110/7505   train_loss = 6.537\n",
      "Epoch   0 Batch 1120/7505   train_loss = 6.446\n",
      "Epoch   0 Batch 1130/7505   train_loss = 6.642\n",
      "Epoch   0 Batch 1140/7505   train_loss = 6.624\n",
      "Epoch   0 Batch 1150/7505   train_loss = 6.506\n",
      "Epoch   0 Batch 1160/7505   train_loss = 6.743\n",
      "Epoch   0 Batch 1170/7505   train_loss = 6.620\n",
      "Epoch   0 Batch 1180/7505   train_loss = 6.390\n",
      "Epoch   0 Batch 1190/7505   train_loss = 6.505\n",
      "Epoch   0 Batch 1200/7505   train_loss = 6.580\n",
      "Epoch   0 Batch 1210/7505   train_loss = 6.517\n",
      "Epoch   0 Batch 1220/7505   train_loss = 6.456\n",
      "Epoch   0 Batch 1230/7505   train_loss = 6.679\n",
      "Epoch   0 Batch 1240/7505   train_loss = 6.584\n",
      "Epoch   0 Batch 1250/7505   train_loss = 6.251\n",
      "Epoch   0 Batch 1260/7505   train_loss = 6.400\n",
      "Epoch   0 Batch 1270/7505   train_loss = 6.460\n",
      "Epoch   0 Batch 1280/7505   train_loss = 6.432\n",
      "Epoch   0 Batch 1290/7505   train_loss = 6.595\n",
      "Epoch   0 Batch 1300/7505   train_loss = 6.162\n",
      "Epoch   0 Batch 1310/7505   train_loss = 6.326\n",
      "Epoch   0 Batch 1320/7505   train_loss = 6.431\n",
      "Epoch   0 Batch 1330/7505   train_loss = 6.384\n",
      "Epoch   0 Batch 1340/7505   train_loss = 6.673\n",
      "Epoch   0 Batch 1350/7505   train_loss = 6.532\n",
      "Epoch   0 Batch 1360/7505   train_loss = 6.319\n",
      "Epoch   0 Batch 1370/7505   train_loss = 6.126\n",
      "Epoch   0 Batch 1380/7505   train_loss = 6.414\n",
      "Epoch   0 Batch 1390/7505   train_loss = 6.693\n",
      "Epoch   0 Batch 1400/7505   train_loss = 6.561\n",
      "Epoch   0 Batch 1410/7505   train_loss = 6.510\n",
      "Epoch   0 Batch 1420/7505   train_loss = 6.667\n",
      "Epoch   0 Batch 1430/7505   train_loss = 6.132\n",
      "Epoch   0 Batch 1440/7505   train_loss = 6.330\n",
      "Epoch   0 Batch 1450/7505   train_loss = 6.476\n",
      "Epoch   0 Batch 1460/7505   train_loss = 6.126\n",
      "Epoch   0 Batch 1470/7505   train_loss = 6.457\n",
      "Epoch   0 Batch 1480/7505   train_loss = 6.793\n",
      "Epoch   0 Batch 1490/7505   train_loss = 6.753\n",
      "Epoch   0 Batch 1500/7505   train_loss = 6.435\n",
      "Epoch   0 Batch 1510/7505   train_loss = 6.318\n",
      "Epoch   0 Batch 1520/7505   train_loss = 6.321\n",
      "Epoch   0 Batch 1530/7505   train_loss = 6.423\n",
      "Epoch   0 Batch 1540/7505   train_loss = 6.097\n",
      "Epoch   0 Batch 1550/7505   train_loss = 5.736\n",
      "Epoch   0 Batch 1560/7505   train_loss = 5.860\n",
      "Epoch   0 Batch 1570/7505   train_loss = 5.732\n",
      "Epoch   0 Batch 1580/7505   train_loss = 5.567\n",
      "Epoch   0 Batch 1590/7505   train_loss = 5.575\n",
      "Epoch   0 Batch 1600/7505   train_loss = 5.532\n",
      "Epoch   0 Batch 1610/7505   train_loss = 5.542\n",
      "Epoch   0 Batch 1620/7505   train_loss = 5.681\n",
      "Epoch   0 Batch 1630/7505   train_loss = 5.286\n",
      "Epoch   0 Batch 1640/7505   train_loss = 5.311\n",
      "Epoch   0 Batch 1650/7505   train_loss = 5.235\n",
      "Epoch   0 Batch 1660/7505   train_loss = 5.214\n",
      "Epoch   0 Batch 1670/7505   train_loss = 5.176\n",
      "Epoch   0 Batch 1680/7505   train_loss = 4.871\n",
      "Epoch   0 Batch 1690/7505   train_loss = 4.980\n",
      "Epoch   0 Batch 1700/7505   train_loss = 4.938\n",
      "Epoch   0 Batch 1710/7505   train_loss = 4.877\n",
      "Epoch   0 Batch 1720/7505   train_loss = 5.115\n",
      "Epoch   0 Batch 1730/7505   train_loss = 4.820\n",
      "Epoch   0 Batch 1740/7505   train_loss = 4.985\n"
     ]
    },
    {
     "name": "stdout",
     "output_type": "stream",
     "text": [
      "Epoch   0 Batch 1750/7505   train_loss = 4.730\n",
      "Epoch   0 Batch 1760/7505   train_loss = 4.731\n",
      "Epoch   0 Batch 1770/7505   train_loss = 5.024\n",
      "Epoch   0 Batch 1780/7505   train_loss = 4.890\n",
      "Epoch   0 Batch 1790/7505   train_loss = 4.909\n",
      "Epoch   0 Batch 1800/7505   train_loss = 4.977\n",
      "Epoch   0 Batch 1810/7505   train_loss = 4.744\n",
      "Epoch   0 Batch 1820/7505   train_loss = 4.828\n",
      "Epoch   0 Batch 1830/7505   train_loss = 4.861\n",
      "Epoch   0 Batch 1840/7505   train_loss = 4.597\n",
      "Epoch   0 Batch 1850/7505   train_loss = 4.928\n",
      "Epoch   0 Batch 1860/7505   train_loss = 4.656\n",
      "Epoch   0 Batch 1870/7505   train_loss = 4.518\n",
      "Epoch   0 Batch 1880/7505   train_loss = 4.550\n",
      "Epoch   0 Batch 1890/7505   train_loss = 4.641\n",
      "Epoch   0 Batch 1900/7505   train_loss = 4.561\n",
      "Epoch   0 Batch 1910/7505   train_loss = 4.864\n",
      "Epoch   0 Batch 1920/7505   train_loss = 4.684\n",
      "Epoch   0 Batch 1930/7505   train_loss = 4.645\n",
      "Epoch   0 Batch 1940/7505   train_loss = 4.261\n",
      "Epoch   0 Batch 1950/7505   train_loss = 4.584\n",
      "Epoch   0 Batch 1960/7505   train_loss = 4.438\n",
      "Epoch   0 Batch 1970/7505   train_loss = 4.703\n",
      "Epoch   0 Batch 1980/7505   train_loss = 4.669\n",
      "Epoch   0 Batch 1990/7505   train_loss = 4.630\n",
      "Epoch   0 Batch 2000/7505   train_loss = 4.492\n",
      "Epoch   0 Batch 2010/7505   train_loss = 4.369\n",
      "Epoch   0 Batch 2020/7505   train_loss = 4.419\n",
      "Epoch   0 Batch 2030/7505   train_loss = 4.647\n",
      "Epoch   0 Batch 2040/7505   train_loss = 4.544\n",
      "Epoch   0 Batch 2050/7505   train_loss = 4.492\n",
      "Epoch   0 Batch 2060/7505   train_loss = 4.475\n",
      "Epoch   0 Batch 2070/7505   train_loss = 4.426\n",
      "Epoch   0 Batch 2080/7505   train_loss = 4.363\n",
      "Epoch   0 Batch 2090/7505   train_loss = 4.413\n",
      "Epoch   0 Batch 2100/7505   train_loss = 4.530\n",
      "Epoch   0 Batch 2110/7505   train_loss = 4.471\n",
      "Epoch   0 Batch 2120/7505   train_loss = 4.471\n",
      "Epoch   0 Batch 2130/7505   train_loss = 4.109\n",
      "Epoch   0 Batch 2140/7505   train_loss = 4.498\n",
      "Epoch   0 Batch 2150/7505   train_loss = 4.490\n",
      "Epoch   0 Batch 2160/7505   train_loss = 4.530\n",
      "Epoch   0 Batch 2170/7505   train_loss = 4.451\n",
      "Epoch   0 Batch 2180/7505   train_loss = 4.395\n",
      "Epoch   0 Batch 2190/7505   train_loss = 4.551\n"
     ]
    }
   ],
   "source": [
    "\"\"\"\n",
    "DON'T MODIFY ANYTHING IN THIS CELL\n",
    "\"\"\"\n",
    "batches = get_batches(int_text, batch_size, seq_length)\n",
    "\n",
    "with tf.Session(graph=train_graph) as sess:\n",
    "    sess.run(tf.global_variables_initializer())\n",
    "\n",
    "    for epoch_i in range(num_epochs):\n",
    "        state = sess.run(initial_state, {input_text: batches[0][0]})\n",
    "\n",
    "        for batch_i, (x, y) in enumerate(batches):\n",
    "            feed = {\n",
    "                input_text: x,\n",
    "                targets: y,\n",
    "                initial_state: state,\n",
    "                lr: learning_rate}\n",
    "            train_loss, state, _ = sess.run([cost, final_state, train_op], feed)\n",
    "\n",
    "            # Show every <show_every_n_batches> batches\n",
    "            if (epoch_i * len(batches) + batch_i) % show_every_n_batches == 0:\n",
    "                print('Epoch {:>3} Batch {:>4}/{}   train_loss = {:.3f}'.format(\n",
    "                    epoch_i,\n",
    "                    batch_i,\n",
    "                    len(batches),\n",
    "                    train_loss))\n",
    "\n",
    "    # Save Model\n",
    "    saver = tf.train.Saver()\n",
    "    saver.save(sess, save_dir)\n",
    "    print('Model Trained and Saved')"
   ]
  },
  {
   "cell_type": "markdown",
   "metadata": {},
   "source": [
    "## Save Parameters\n",
    "Save `seq_length` and `save_dir` for generating a new TV script."
   ]
  },
  {
   "cell_type": "code",
   "execution_count": null,
   "metadata": {
    "collapsed": true
   },
   "outputs": [],
   "source": [
    "\"\"\"\n",
    "DON'T MODIFY ANYTHING IN THIS CELL\n",
    "\"\"\"\n",
    "# Save parameters for checkpoint\n",
    "helper.save_params((seq_length, save_dir))"
   ]
  },
  {
   "cell_type": "markdown",
   "metadata": {},
   "source": [
    "# Checkpoint"
   ]
  },
  {
   "cell_type": "code",
   "execution_count": null,
   "metadata": {
    "collapsed": true
   },
   "outputs": [],
   "source": [
    "\"\"\"\n",
    "DON'T MODIFY ANYTHING IN THIS CELL\n",
    "\"\"\"\n",
    "import tensorflow as tf\n",
    "import numpy as np\n",
    "import helper\n",
    "import problem_unittests as tests\n",
    "\n",
    "_, vocab_to_int, int_to_vocab, token_dict = helper.load_preprocess()\n",
    "seq_length, load_dir = helper.load_params()"
   ]
  },
  {
   "cell_type": "markdown",
   "metadata": {},
   "source": [
    "## Implement Generate Functions\n",
    "### Get Tensors\n",
    "Get tensors from `loaded_graph` using the function [`get_tensor_by_name()`](https://www.tensorflow.org/api_docs/python/tf/Graph#get_tensor_by_name).  Get the tensors using the following names:\n",
    "- \"input:0\"\n",
    "- \"initial_state:0\"\n",
    "- \"final_state:0\"\n",
    "- \"probs:0\"\n",
    "\n",
    "Return the tensors in the following tuple `(InputTensor, InitialStateTensor, FinalStateTensor, ProbsTensor)` "
   ]
  },
  {
   "cell_type": "code",
   "execution_count": null,
   "metadata": {},
   "outputs": [],
   "source": [
    "def get_tensors(loaded_graph):\n",
    "    \"\"\"\n",
    "    Get input, initial state, final state, and probabilities tensor from <loaded_graph>\n",
    "    :param loaded_graph: TensorFlow graph loaded from file\n",
    "    :return: Tuple (InputTensor, InitialStateTensor, FinalStateTensor, ProbsTensor)\n",
    "    \"\"\"\n",
    "    # TODO: Implement Function\n",
    "#     with tf.Graph():\n",
    "    InputTensor = loaded_graph.get_tensor_by_name(\"input:0\")\n",
    "    InitialStateTensor = loaded_graph.get_tensor_by_name(\"initial_state:0\")\n",
    "    FinalStateTensor = loaded_graph.get_tensor_by_name(\"final_state:0\")\n",
    "    ProbsTensor = loaded_graph.get_tensor_by_name(\"probs:0\")\n",
    "    \n",
    "    return InputTensor, InitialStateTensor, FinalStateTensor, ProbsTensor\n",
    "\n",
    "\n",
    "\"\"\"\n",
    "DON'T MODIFY ANYTHING IN THIS CELL THAT IS BELOW THIS LINE\n",
    "\"\"\"\n",
    "tests.test_get_tensors(get_tensors)"
   ]
  },
  {
   "cell_type": "markdown",
   "metadata": {},
   "source": [
    "### Choose Word\n",
    "Implement the `pick_word()` function to select the next word using `probabilities`."
   ]
  },
  {
   "cell_type": "code",
   "execution_count": null,
   "metadata": {},
   "outputs": [],
   "source": [
    "def pick_word(probabilities, int_to_vocab):\n",
    "    \"\"\"\n",
    "    Pick the next word in the generated text\n",
    "    :param probabilities: Probabilites of the next word\n",
    "    :param int_to_vocab: Dictionary of word ids as the keys and words as the values\n",
    "    :return: String of the predicted word\n",
    "    \"\"\"\n",
    "    # TODO: Implement Function\n",
    "#     print(probabilities)\n",
    "#     print(int_to_vocab)\n",
    "    prediction = int_to_vocab[np.argmax(probabilities)]\n",
    "#     print(prediction)\n",
    "    return prediction\n",
    "\n",
    "\n",
    "\"\"\"\n",
    "DON'T MODIFY ANYTHING IN THIS CELL THAT IS BELOW THIS LINE\n",
    "\"\"\"\n",
    "tests.test_pick_word(pick_word)"
   ]
  },
  {
   "cell_type": "markdown",
   "metadata": {},
   "source": [
    "## Generate TV Script\n",
    "This will generate the TV script for you.  Set `gen_length` to the length of TV script you want to generate."
   ]
  },
  {
   "cell_type": "code",
   "execution_count": null,
   "metadata": {},
   "outputs": [],
   "source": [
    "gen_length = 200\n",
    "# homer_simpson, moe_szyslak, or Barney_Gumble\n",
    "prime_word = 'moe_szyslak'\n",
    "\n",
    "\"\"\"\n",
    "DON'T MODIFY ANYTHING IN THIS CELL THAT IS BELOW THIS LINE\n",
    "\"\"\"\n",
    "loaded_graph = tf.Graph()\n",
    "with tf.Session(graph=loaded_graph) as sess:\n",
    "    # Load saved model\n",
    "    loader = tf.train.import_meta_graph(load_dir + '.meta')\n",
    "    loader.restore(sess, load_dir)\n",
    "\n",
    "    # Get Tensors from loaded model\n",
    "    input_text, initial_state, final_state, probs = get_tensors(loaded_graph)\n",
    "\n",
    "    # Sentences generation setup\n",
    "    gen_sentences = [prime_word + ':']\n",
    "    prev_state = sess.run(initial_state, {input_text: np.array([[1]])})\n",
    "\n",
    "    # Generate sentences\n",
    "    for n in range(gen_length):\n",
    "        # Dynamic Input\n",
    "        dyn_input = [[vocab_to_int[word] for word in gen_sentences[-seq_length:]]]\n",
    "        dyn_seq_length = len(dyn_input[0])\n",
    "\n",
    "        # Get Prediction\n",
    "        probabilities, prev_state = sess.run(\n",
    "            [probs, final_state],\n",
    "            {input_text: dyn_input, initial_state: prev_state})\n",
    "        \n",
    "        pred_word = pick_word(probabilities[dyn_seq_length-1], int_to_vocab)\n",
    "\n",
    "        gen_sentences.append(pred_word)\n",
    "    \n",
    "    # Remove tokens\n",
    "    tv_script = ' '.join(gen_sentences)\n",
    "    for key, token in token_dict.items():\n",
    "        ending = ' ' if key in ['\\n', '(', '\"'] else ''\n",
    "        tv_script = tv_script.replace(' ' + token.lower(), key)\n",
    "    tv_script = tv_script.replace('\\n ', '\\n')\n",
    "    tv_script = tv_script.replace('( ', '(')\n",
    "        \n",
    "    print(tv_script)"
   ]
  },
  {
   "cell_type": "markdown",
   "metadata": {},
   "source": [
    "# The TV Script is Nonsensical\n",
    "It's ok if the TV script doesn't make any sense.  We trained on less than a megabyte of text.  In order to get good results, you'll have to use a smaller vocabulary or get more data.  Luckly there's more data!  As we mentioned in the begging of this project, this is a subset of [another dataset](https://www.kaggle.com/wcukierski/the-simpsons-by-the-data).  We didn't have you train on all the data, because that would take too long.  However, you are free to train your neural network on all the data.  After you complete the project, of course.\n",
    "# Submitting This Project\n",
    "When submitting this project, make sure to run all the cells before saving the notebook. Save the notebook file as \"dlnd_tv_script_generation.ipynb\" and save it as a HTML file under \"File\" -> \"Download as\". Include the \"helper.py\" and \"problem_unittests.py\" files in your submission."
   ]
  },
  {
   "cell_type": "code",
   "execution_count": null,
   "metadata": {
    "collapsed": true
   },
   "outputs": [],
   "source": []
  }
 ],
 "metadata": {
  "kernelspec": {
   "display_name": "Python 3",
   "language": "python",
   "name": "python3"
  },
  "language_info": {
   "codemirror_mode": {
    "name": "ipython",
    "version": 3
   },
   "file_extension": ".py",
   "mimetype": "text/x-python",
   "name": "python",
   "nbconvert_exporter": "python",
   "pygments_lexer": "ipython3",
   "version": "3.6.2"
  },
  "widgets": {
   "state": {},
   "version": "1.1.2"
  }
 },
 "nbformat": 4,
 "nbformat_minor": 1
}
